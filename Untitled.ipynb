{
 "cells": [
  {
   "cell_type": "code",
   "execution_count": 1,
   "id": "a7b23664-929a-43a9-876c-20eda4f34e59",
   "metadata": {},
   "outputs": [
    {
     "name": "stderr",
     "output_type": "stream",
     "text": [
      "pybullet build time: Apr  5 2025 23:51:30\n"
     ]
    },
    {
     "name": "stdout",
     "output_type": "stream",
     "text": [
      "Ground plane loaded: Success\n"
     ]
    }
   ],
   "source": [
    "import pybullet as p\n",
    "import pybullet_data\n",
    "physicsClient = p.connect(p.DIRECT)  # Connect to the PyBullet physics server\n",
    "p.setAdditionalSearchPath(\n",
    "    pybullet_data.getDataPath()\n",
    ")\n",
    "p.setGravity(0, 0, -9.81)  # Set gravity (9.81 m/s²)\n",
    "p.setPhysicsEngineParameter(enableFileCaching=0)\n",
    "p.setRealTimeSimulation(\n",
    "    0\n",
    ")\n",
    "\n",
    "# Load the ground plane\n",
    "planeId = p.loadURDF(\"plane.urdf\")\n",
    "print(f\"Ground plane loaded: {'Success' if planeId >= 0 else 'Failed'}\")\n",
    "\n",
    "# Load the robot\n",
    "startPos = [0., 0., 0.1]\n",
    "startOrientation = p.getQuaternionFromEuler([0, 0, 0])\n",
    "robotId = p.loadURDF(\"husky/husky.urdf\", startPos, startOrientation)\n"
   ]
  },
  {
   "cell_type": "code",
   "execution_count": null,
   "id": "9eb68c38-05ed-4144-bb85-1b4e1fd9a33e",
   "metadata": {},
   "outputs": [],
   "source": []
  }
 ],
 "metadata": {
  "kernelspec": {
   "display_name": "Python 3 (ipykernel)",
   "language": "python",
   "name": "python3"
  },
  "language_info": {
   "codemirror_mode": {
    "name": "ipython",
    "version": 3
   },
   "file_extension": ".py",
   "mimetype": "text/x-python",
   "name": "python",
   "nbconvert_exporter": "python",
   "pygments_lexer": "ipython3",
   "version": "3.12.8"
  }
 },
 "nbformat": 4,
 "nbformat_minor": 5
}
