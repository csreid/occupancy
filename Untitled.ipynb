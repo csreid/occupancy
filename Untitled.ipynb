{
 "cells": [
  {
   "cell_type": "code",
   "execution_count": 3,
   "id": "a7b23664-929a-43a9-876c-20eda4f34e59",
   "metadata": {},
   "outputs": [
    {
     "data": {
      "application/vnd.jupyter.widget-view+json": {
       "model_id": "9f1721792af84ca3af31e9f97faa6279",
       "version_major": 2,
       "version_minor": 0
      },
      "text/plain": [
       "  0%|          | 0/500 [00:00<?, ?it/s]"
      ]
     },
     "metadata": {},
     "output_type": "display_data"
    }
   ],
   "source": [
    "from tqdm.notebook import tqdm\n",
    "import numpy as np\n",
    "import torch\n",
    "from cv_bridge import CvBridge\n",
    "import rosbag2_py\n",
    "import rclpy\n",
    "from rclpy import serialization\n",
    "from sensor_msgs.msg import LaserScan, Image, CameraInfo\n",
    "import matplotlib.pyplot as plt\n",
    "from model import OccupancyGridModule\n",
    "\n",
    "bridge = CvBridge()\n",
    "\n",
    "storage_options = rosbag2_py.StorageOptions(\n",
    "    uri='sim_data',\n",
    "    storage_id=\"mcap\"\n",
    ")\n",
    "converter_options = rosbag2_py.ConverterOptions(\n",
    "    input_serialization_format=\"cdr\",\n",
    "    output_serialization_format=\"cdr\"\n",
    ")\n",
    "\n",
    "# Create reader instance\n",
    "reader = rosbag2_py.SequentialReader()\n",
    "reader.open(storage_options, converter_options)\n",
    "\n",
    "stuff = []\n",
    "scans = []\n",
    "gt_imgs = []\n",
    "imgs = []\n",
    "\n",
    "def ros_to_img(img):\n",
    "    return np.moveaxis((np.array(\n",
    "        bridge.imgmsg_to_cv2(\n",
    "            serialization.deserialize_message(img, message_type=Image),\n",
    "            desired_encoding='passthrough'\n",
    "        )\n",
    "    ) / 255.).astype(np.float32), 2, 0)\n",
    "\n",
    "def ros_to_gt(img):\n",
    "    return np.array(bridge.imgmsg_to_cv2(serialization.deserialize_message(img, message_type=Image), desired_encoding='passthrough'))\n",
    "\n",
    "def scan_to_numpy(scan):\n",
    "    data = serialization.deserialize_message(scan, message_type=LaserScan)\n",
    "    return np.array(data.ranges) \n",
    "    \n",
    "count = 0\n",
    "progress = tqdm(total=500)\n",
    "while reader.has_next() and count < 500:\n",
    "    cur = reader.read_next()\n",
    "    if cur[0] == '/scan':\n",
    "        scans.append(scan_to_numpy(cur[1]))\n",
    "    elif cur[0] == '/ground_truth_occupancy_grid':\n",
    "        gt_imgs.append(ros_to_gt(cur[1]))\n",
    "    elif cur[0] == '/camera':\n",
    "        imgs.append(ros_to_img(cur[1]))\n",
    "        break\n",
    "    progress.update()\n",
    "    count += 1\n"
   ]
  },
  {
   "cell_type": "code",
   "execution_count": 9,
   "id": "686de104-79df-4ed0-b43e-9a9fe34e214e",
   "metadata": {},
   "outputs": [
    {
     "data": {
      "text/plain": [
       "tensor([ 0.0983, -0.0771, -0.0684,  0.0424,  0.0048, -0.0212, -0.0237,  0.0742,\n",
       "        -0.0622, -0.0158,  0.0618, -0.1382, -0.0061,  0.0558,  0.0021, -0.0079,\n",
       "         0.0609, -0.0232,  0.0475,  0.0299,  0.0418, -0.0680, -0.0325, -0.0159,\n",
       "         0.1111, -0.0711, -0.1323, -0.0823, -0.0082, -0.0106,  0.1212, -0.0069,\n",
       "         0.0233, -0.0279,  0.0275, -0.0668,  0.0110,  0.0327, -0.0355, -0.0979,\n",
       "         0.0536, -0.0910, -0.1007,  0.0544, -0.0457, -0.0552,  0.0342,  0.0337,\n",
       "         0.0559, -0.1653,  0.1008,  0.1265,  0.1303,  0.0021, -0.0066, -0.1179,\n",
       "        -0.0245,  0.0323,  0.0163, -0.0124,  0.0284,  0.0032, -0.0233,  0.0494,\n",
       "        -0.0747, -0.0807, -0.0935, -0.1116, -0.0421,  0.0551,  0.0521, -0.0140,\n",
       "         0.0205, -0.0425, -0.1108, -0.0714,  0.0091, -0.1110,  0.0849,  0.0481,\n",
       "         0.0273,  0.0681, -0.0281, -0.0345, -0.0401, -0.0690,  0.0188,  0.1063,\n",
       "        -0.0277,  0.0226, -0.0248,  0.0484,  0.0264, -0.0739, -0.1623, -0.0901,\n",
       "         0.0927, -0.0378, -0.0450,  0.0296,  0.0972,  0.0971,  0.0436, -0.0731,\n",
       "        -0.1993,  0.0404, -0.0511, -0.0500, -0.0233,  0.0168, -0.0083,  0.0170,\n",
       "        -0.1056, -0.0060, -0.0800, -0.0118,  0.1281,  0.0544, -0.0039,  0.0268,\n",
       "         0.0171,  0.1507, -0.0236,  0.0796,  0.1005,  0.0508, -0.1149,  0.0812],\n",
       "       grad_fn=<ViewBackward0>)"
      ]
     },
     "execution_count": 9,
     "metadata": {},
     "output_type": "execute_result"
    }
   ],
   "source": [
    "model = OccupancyGridModule()\n",
    "\n",
    "model(camera=torch.tensor(imgs[0]).unsqueeze(0))"
   ]
  },
  {
   "cell_type": "code",
   "execution_count": 11,
   "id": "86a5e2bd-919c-42c2-b3da-2c4b4797c735",
   "metadata": {},
   "outputs": [
    {
     "name": "stdout",
     "output_type": "stream",
     "text": [
      "torch.Size([64, 4])\n"
     ]
    },
    {
     "data": {
      "text/plain": [
       "torch.Size([64])"
      ]
     },
     "execution_count": 11,
     "metadata": {},
     "output_type": "execute_result"
    }
   ],
   "source": [
    "model = LidarModule()\n",
    "model(torch.tensor(scans[0]).unsqueeze(0)).shape"
   ]
  },
  {
   "cell_type": "code",
   "execution_count": 12,
   "id": "15ab4922-1315-4409-9db4-45b593aac69b",
   "metadata": {},
   "outputs": [
    {
     "data": {
      "text/plain": [
       "<matplotlib.image.AxesImage at 0x7b18741ef0e0>"
      ]
     },
     "execution_count": 12,
     "metadata": {},
     "output_type": "execute_result"
    },
    {
     "data": {
      "image/png": "[encoded data removed]",
      "text/plain": [
       "<Figure size 640x480 with 1 Axes>"
      ]
     },
     "metadata": {},
     "output_type": "display_data"
    }
   ],
   "source": [
    "plt.imshow(gt_imgs[0])"
   ]
  },
  {
   "cell_type": "code",
   "execution_count": null,
   "id": "53574f6b-baa9-4e0c-8dcb-9125923a097d",
   "metadata": {},
   "outputs": [],
   "source": []
  }
 ],
 "metadata": {
  "kernelspec": {
   "display_name": "Python 3 (ipykernel)",
   "language": "python",
   "name": "python3"
  },
  "language_info": {
   "codemirror_mode": {
    "name": "ipython",
    "version": 3
   },
   "file_extension": ".py",
   "mimetype": "text/x-python",
   "name": "python",
   "nbconvert_exporter": "python",
   "pygments_lexer": "ipython3",
   "version": "3.12.8"
  }
 },
 "nbformat": 4,
 "nbformat_minor": 5
}
